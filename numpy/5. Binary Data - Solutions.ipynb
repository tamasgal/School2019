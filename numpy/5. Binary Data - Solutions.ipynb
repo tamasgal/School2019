{
 "cells": [
  {
   "cell_type": "markdown",
   "metadata": {
    "slideshow": {
     "slide_type": "slide"
    }
   },
   "source": [
    "# Reading Binary Data with Numpy\n",
    "\n",
    "Tamás Gál (tamas.gal@fau.de)\n",
    "\n",
    "The latest version of this notebook is available at [https://github.com/Asterics2020-Obelics](https://github.com/Asterics2020-Obelics/School2019/tree/master/numpy)\n",
    "\n",
    "**Warning**: This notebook contains all the solutions. If you are currently sitting in the `NumPy` lecture, close this immediately ;-) You will now work in a blank notebook, you don't need anything else!"
   ]
  },
  {
   "cell_type": "code",
   "execution_count": 1,
   "metadata": {
    "slideshow": {
     "slide_type": "fragment"
    }
   },
   "outputs": [
    {
     "name": "stdout",
     "output_type": "stream",
     "text": [
      "Python version:  3.7.2 (default, Jan 10 2019, 10:02:28) \n",
      "[GCC 8.2.1 20181127]\n",
      "NumPy version:   1.16.2\n"
     ]
    }
   ],
   "source": [
    "import numpy as np\n",
    "import sys\n",
    "\n",
    "print(\"Python version:  {0}\\n\"\n",
    "      \"NumPy version:   {1}\"\n",
    "      .format(sys.version, np.__version__))"
   ]
  },
  {
   "cell_type": "code",
   "execution_count": 2,
   "metadata": {
    "slideshow": {
     "slide_type": "fragment"
    }
   },
   "outputs": [],
   "source": [
    "%matplotlib inline\n",
    "import matplotlib.pyplot as plt\n",
    "plt.rcParams['figure.figsize'] = (16, 5)\n",
    "plt.rcParams['figure.dpi'] = 300"
   ]
  },
  {
   "cell_type": "markdown",
   "metadata": {
    "slideshow": {
     "slide_type": "slide"
    }
   },
   "source": [
    "## Exercise: Read a KM3NeT Event File and create a histogram of the PMT ToTs\n",
    "\n",
    "Use `numpy.fromfile()` and custom `dtype`s to read an event from `School2019/numpy/IO_EVT.dat`\n",
    "\n",
    "The KM3NeT DAQ dataformat for storing an event consists of a header and two sets of hits (triggered hits and snapshot hits). The header has been skipped, so `IO_EVT.dat` only contains the **triggered** and **snapshot** hits.\n",
    "\n",
    "#### Triggered hits:\n",
    "- n_hits `[int32, little endian]`\n",
    "- n_hits * triggered_hit_struct\n",
    "    - optical module ID `[int32, little endian]`, example 808476737\n",
    "    - PMT ID `[unsigned char (byte)]`, value between 0 and 30\n",
    "    - time in nanoseconds `[uint32, big endian]`, example 90544845\n",
    "    - ToT (time over threshold) `[unsigned byte]`, value between 0 and 255\n",
    "    - trigger mask `[uint64, little endian]`, bitmask, typical values are 1, 3, 4, 6\n",
    "\n",
    "#### Snapshot hits: same as triggered hits but without the `trigger mask` field"
   ]
  },
  {
   "cell_type": "markdown",
   "metadata": {
    "slideshow": {
     "slide_type": "subslide"
    }
   },
   "source": [
    "### Solution"
   ]
  },
  {
   "cell_type": "markdown",
   "metadata": {
    "slideshow": {
     "slide_type": "skip"
    }
   },
   "source": [
    "We can use the `xxd` command to have a quick look at the binary data. If we don't know the structure, this might be a good starting point to identify some strings or recognise numbers from a proiri knowledge."
   ]
  },
  {
   "cell_type": "code",
   "execution_count": 3,
   "metadata": {
    "slideshow": {
     "slide_type": "fragment"
    }
   },
   "outputs": [
    {
     "name": "stdout",
     "output_type": "stream",
     "text": [
      "00000000: 0f00 0000 4160 3030 0205 659a 101d 0400  ....A`00..e.....\r\n",
      "00000010: 0000 0000 0000 4160 3030 0305 659a 2515  ......A`00..e.%.\r\n",
      "00000020: 0400 0000 0000 0000 5e7b 3030 0005 659a  ........^{00..e.\r\n",
      "00000030: 6821 0400 0000 0000 0000 5e7b 3030 0105  h!........^{00..\r\n",
      "00000040: 659a 541b 0600 0000 0000 0000 5e7b 3030  e.T.........^{00\r\n",
      "00000050: 0a05 659a 6511 0600 0000 0000 0000 5e7b  ..e.e.........^{\r\n",
      "00000060: 3030 1005 659a 5c1b 0600 0000 0000 0000  00..e.\\.........\r\n",
      "00000070: 5e7b 3030 1405 659a 5619 0600 0000 0000  ^{00..e.V.......\r\n",
      "00000080: 0000 4887 3730 0105 6599 cf1a 0600 0000  ..H.70..e.......\r\n",
      "00000090: 0000 0000 4887 3730 0b05 6599 d613 0600  ....H.70..e.....\r\n"
     ]
    }
   ],
   "source": [
    "!xxd IO_EVT.dat |head -n 10"
   ]
  },
  {
   "cell_type": "markdown",
   "metadata": {
    "slideshow": {
     "slide_type": "subslide"
    }
   },
   "source": [
    "## The hit `dtype`"
   ]
  },
  {
   "cell_type": "markdown",
   "metadata": {
    "slideshow": {
     "slide_type": "skip"
    }
   },
   "source": [
    "We define our custom `dtype` for the hits and use the `dtype.descr` attribute as a base `dtype` for triggered hits, extended with the `triggermask` field."
   ]
  },
  {
   "cell_type": "code",
   "execution_count": 4,
   "metadata": {
    "scrolled": true,
    "slideshow": {
     "slide_type": "fragment"
    }
   },
   "outputs": [],
   "source": [
    "hit_dtype = np.dtype([\n",
    "    (\"dom_id\", \"<i\"),\n",
    "    (\"pmt_id\", \"B\"),\n",
    "    (\"time\", \">I\"),\n",
    "    (\"tot\", \"B\"),\n",
    "])\n",
    "\n",
    "trig_hit_dtype = np.dtype(hit_dtype.descr + [('triggermask', '<Q')])"
   ]
  },
  {
   "cell_type": "markdown",
   "metadata": {
    "slideshow": {
     "slide_type": "skip"
    }
   },
   "source": [
    "The file `IO_EVT.dat` contains a single event. Opened in binary-read mode (`\"rb\"`), the `fobj` behaves like a stream. `np.fromfile` will call the `.read()` method with the number of bytes calculated from the given `dtype`.\n",
    "According to the data format specification, the first integer (represented by `dtype='<i'` where `<` indicates that it's little endian) is the number of triggered hits.\n",
    "\n",
    "To read the array of triggered hits, the `trig_hit_dtype` is used and the `count=n_trig_hits` argument is passed, otherwise `numpy` will read till the end of the file.\n",
    "\n",
    "We repeat the same process for the regular (snapshot) hits."
   ]
  },
  {
   "cell_type": "markdown",
   "metadata": {
    "slideshow": {
     "slide_type": "subslide"
    }
   },
   "source": [
    "### Parsing the binary data"
   ]
  },
  {
   "cell_type": "code",
   "execution_count": 5,
   "metadata": {
    "slideshow": {
     "slide_type": "fragment"
    }
   },
   "outputs": [],
   "source": [
    "with open(\"IO_EVT.dat\", \"rb\") as fobj:\n",
    "    n_trig_hits = np.fromfile(fobj, dtype='<i', count=1)[0]\n",
    "    trig_hits = np.fromfile(fobj, dtype=trig_hit_dtype, count=n_trig_hits)\n",
    "    \n",
    "    n_hits = np.fromfile(fobj, dtype='<i', count=1)[0]\n",
    "    hits = np.fromfile(fobj, dtype=hit_dtype, count=n_hits)"
   ]
  },
  {
   "cell_type": "markdown",
   "metadata": {
    "slideshow": {
     "slide_type": "skip"
    }
   },
   "source": [
    "Let's see what we got:"
   ]
  },
  {
   "cell_type": "code",
   "execution_count": 6,
   "metadata": {
    "slideshow": {
     "slide_type": "subslide"
    }
   },
   "outputs": [
    {
     "data": {
      "text/plain": [
       "array([(808476737,  2, 90544656, 29, 4), (808476737,  3, 90544677, 21, 4),\n",
       "       (808483678,  0, 90544744, 33, 4), (808483678,  1, 90544724, 27, 6),\n",
       "       (808483678, 10, 90544741, 17, 6), (808483678, 16, 90544732, 27, 6),\n",
       "       (808483678, 20, 90544726, 25, 6), (808945480,  1, 90544591, 26, 6),\n",
       "       (808945480, 11, 90544598, 19, 6), (808945480, 16, 90544592, 28, 6),\n",
       "       (808949646,  8, 90544804, 31, 6), (808949646, 10, 90544823, 26, 4),\n",
       "       (808949646, 11, 90544802, 22, 6), (808949646, 12, 90544804, 23, 6),\n",
       "       (808982030, 14, 90544595, 17, 4)],\n",
       "      dtype=[('dom_id', '<i4'), ('pmt_id', 'u1'), ('time', '>u4'), ('tot', 'u1'), ('triggermask', '<u8')])"
      ]
     },
     "execution_count": 6,
     "metadata": {},
     "output_type": "execute_result"
    }
   ],
   "source": [
    "trig_hits"
   ]
  },
  {
   "cell_type": "code",
   "execution_count": 7,
   "metadata": {
    "slideshow": {
     "slide_type": "subslide"
    }
   },
   "outputs": [
    {
     "data": {
      "text/plain": [
       "array([(808476737,  6, 90543934, 27), (808476737, 26, 90544817, 24),\n",
       "       (808476737, 27, 90544845, 25), (808476737,  2, 90544656, 29),\n",
       "       (808476737,  3, 90544677, 21), (808483667, 11, 90544676, 23),\n",
       "       (808483678, 20, 90544726, 25), (808483678,  0, 90544744, 33),\n",
       "       (808483678,  1, 90544724, 27), (808483678, 10, 90544741, 17),\n",
       "       (808483678, 16, 90544732, 27), (808945480,  1, 90544591, 26),\n",
       "       (808945480, 11, 90544598, 19), (808945480, 16, 90544592, 28),\n",
       "       (808949646,  8, 90544804, 31), (808949646, 10, 90544823, 26),\n",
       "       (808949646, 11, 90544802, 22), (808949646, 12, 90544804, 23),\n",
       "       (808963189, 26, 90544010, 15), (808963189,  5, 90544320, 22),\n",
       "       (808968978, 16, 90544260, 31), (808982030, 14, 90543675, 22),\n",
       "       (808982030, 16, 90544530, 10), (808982030, 14, 90544595, 17),\n",
       "       (808985283,  1, 90544450, 28), (808985283,  1, 90545130, 24),\n",
       "       (809004291, 28, 90544405, 21), (809004291, 19, 90544776, 23),\n",
       "       (809548770, 14, 90544049, 31)],\n",
       "      dtype=[('dom_id', '<i4'), ('pmt_id', 'u1'), ('time', '>u4'), ('tot', 'u1')])"
      ]
     },
     "execution_count": 7,
     "metadata": {},
     "output_type": "execute_result"
    }
   ],
   "source": [
    "hits"
   ]
  },
  {
   "cell_type": "markdown",
   "metadata": {
    "slideshow": {
     "slide_type": "subslide"
    }
   },
   "source": [
    "### The overall ToT distribution\n",
    "\n",
    "We can easily access a specific attribute of all hits using dictionary-notation."
   ]
  },
  {
   "cell_type": "code",
   "execution_count": 8,
   "metadata": {
    "slideshow": {
     "slide_type": "fragment"
    }
   },
   "outputs": [
    {
     "data": {
      "image/png": "[encoded data removed]",
      "text/plain": [
       "<Figure size 432x288 with 1 Axes>"
      ]
     },
     "metadata": {
      "needs_background": "light"
     },
     "output_type": "display_data"
    }
   ],
   "source": [
    "plt.hist(hits['tot'])\n",
    "plt.xlabel('ToT [ns]')\n",
    "plt.yscale('log')\n",
    "plt.ylabel('count');"
   ]
  },
  {
   "cell_type": "markdown",
   "metadata": {
    "slideshow": {
     "slide_type": "slide"
    }
   },
   "source": [
    "### Live Event Read-Out from the KM3NeT ORCA Detector\n",
    "\n",
    "In this example we will read events directly from the ORCA detector, running in the deeps of the Mediterranean!\n",
    "Install ControlHost to communicate with the detector: **`pip install controlhost`**.\n",
    "To create a connection, subscribe to triggered events via the **`\"IO_EVT\"`** tag to **131.188.167.67**:\n",
    "\n",
    "**The header is 48 bytes, just skip it.**\n",
    "\n",
    "### Retrieve 100 events and create another ToT histogram from all hits!"
   ]
  },
  {
   "cell_type": "code",
   "execution_count": 9,
   "metadata": {
    "slideshow": {
     "slide_type": "fragment"
    }
   },
   "outputs": [
    {
     "name": "stdout",
     "output_type": "stream",
     "text": [
      "5194\n",
      "506\n",
      "902\n",
      "632\n",
      "922\n"
     ]
    }
   ],
   "source": [
    "import controlhost as ch\n",
    "\n",
    "with ch.Client(\"131.188.167.67\", tag=\"IO_EVT\") as client:\n",
    "    for i in range(5):\n",
    "        data = client.get_message().data[48:]\n",
    "        print(len(data))"
   ]
  },
  {
   "cell_type": "markdown",
   "metadata": {
    "slideshow": {
     "slide_type": "subslide"
    }
   },
   "source": [
    "### Solution"
   ]
  },
  {
   "cell_type": "code",
   "execution_count": 10,
   "metadata": {
    "slideshow": {
     "slide_type": "fragment"
    }
   },
   "outputs": [],
   "source": [
    "import io\n",
    "import tqdm  # for nice progress bars\n",
    "\n",
    "def retrieve_hits(client):\n",
    "    \"\"\"Retrieves the hits of the next event using a ControlHost client\"\"\"\n",
    "    data = io.BytesIO(client.get_message().data)  # creat a stream\n",
    "\n",
    "    data.read(48)  # skip the first 48 bytes\n",
    "\n",
    "    n_trig_hits = np.frombuffer(data.read(4), dtype='<i', count=1)[0]\n",
    "    triggered_hits = np.frombuffer(\n",
    "        data.read(trig_hit_dtype.itemsize * n_trig_hits),\n",
    "        dtype=trig_hit_dtype\n",
    "    )\n",
    "\n",
    "    n_hits = np.frombuffer(data.read(4), dtype='<i', count=1)[0]\n",
    "    hits = np.frombuffer(\n",
    "        data.read(hit_dtype.itemsize * n_hits),\n",
    "        dtype=hit_dtype\n",
    "    )\n",
    "    \n",
    "    return trig_hits, hits"
   ]
  },
  {
   "cell_type": "markdown",
   "metadata": {
    "slideshow": {
     "slide_type": "subslide"
    }
   },
   "source": [
    "### Gathering hits data"
   ]
  },
  {
   "cell_type": "code",
   "execution_count": 11,
   "metadata": {
    "slideshow": {
     "slide_type": "fragment"
    }
   },
   "outputs": [
    {
     "name": "stderr",
     "output_type": "stream",
     "text": [
      "100%|██████████| 100/100 [00:38<00:00,  3.19it/s]\n"
     ]
    }
   ],
   "source": [
    "tots = []\n",
    "with ch.Client(\"131.188.167.67\", tag=\"IO_EVT\") as client:\n",
    "    for i in tqdm.trange(100):\n",
    "        trig_hits, hits = retrieve_hits(client)\n",
    "        tots.append(hits['tot'])"
   ]
  },
  {
   "cell_type": "code",
   "execution_count": 12,
   "metadata": {
    "slideshow": {
     "slide_type": "subslide"
    }
   },
   "outputs": [
    {
     "data": {
      "image/png": "[encoded data removed]",
      "text/plain": [
       "<Figure size 432x288 with 1 Axes>"
      ]
     },
     "metadata": {
      "needs_background": "light"
     },
     "output_type": "display_data"
    }
   ],
   "source": [
    "plt.hist(np.concatenate(tots).ravel(), bins=100)\n",
    "plt.xlabel('ToT [ns]')\n",
    "plt.yscale('log')\n",
    "plt.ylabel('count');"
   ]
  },
  {
   "cell_type": "markdown",
   "metadata": {
    "slideshow": {
     "slide_type": "slide"
    }
   },
   "source": [
    "## Acknowledgements\n",
    "![](images/eu_asterics.png)\n",
    "\n",
    "This tutorial was supported by the H2020-Astronomy ESFRI and Research Infrastructure Cluster (Grant Agreement number: 653477)."
   ]
  }
 ],
 "metadata": {
  "@webio": {
   "lastCommId": "f52a4bc4f8f1409782e3e9ab289aadef",
   "lastKernelId": "058fa9a0-44a7-4df6-9cb7-9e7f9ba3f007"
  },
  "celltoolbar": "Slideshow",
  "kernelspec": {
   "display_name": "Python 3",
   "language": "python",
   "name": "python3"
  },
  "language_info": {
   "codemirror_mode": {
    "name": "ipython",
    "version": 3
   },
   "file_extension": ".py",
   "mimetype": "text/x-python",
   "name": "python",
   "nbconvert_exporter": "python",
   "pygments_lexer": "ipython3",
   "version": "3.7.2"
  }
 },
 "nbformat": 4,
 "nbformat_minor": 2
}
